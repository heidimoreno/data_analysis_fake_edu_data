{
 "cells": [
  {
   "cell_type": "markdown",
   "id": "ad8c2950",
   "metadata": {},
   "source": [
    "# The dataset used in this notebook is not a real dataset. It was created with an algorithm and does not represent actual student data."
   ]
  },
  {
   "cell_type": "markdown",
   "id": "bfc0112b",
   "metadata": {},
   "source": [
    "This Jupyter Notebook presents an analysis of a fictional educational dataset including the following data: ID, Gender, Race, Grade, Attendance Rate, Free or Reduced Lunch, Primary Language, Lives with Parent/Guardian, Promoted, SEL Score, Reading Level, Case Managed, and Average Grade. While the data isn't real, and there could be many more variables to factor into a real predictive model for student-level education outcomes, this project is being used with the goal of creating a basic predictive model to determine which of the included variables are significant in predicting if a given student was promoted or retained. This dataset consists of 657 observations across 14 columns/variables and includes both continuous and categorical variables.\n",
    "\n",
    "This notebook begins with the loading and cleaning of the data before moving into some basic exploratory analysis which includes descriptive statistics for the continuous variables and counts for the categorical. Visualizations are used to explore distribution and frequency of some variables. In preparation for deeper analysis, the categorical variables are encoded using one-hot encoding, and a correlation matrix is included to take a cursory look at significant relationships between the included variables.\n",
    "\n",
    "Before the predictive model is created, the data is first split into training (70%) and testing (30%) sets. A decision tree model is then created using the training data followed by evaluation by the testing data using the following metrics: accuracy, precision, recall, and the F1 score.\n",
    "\n",
    "The model identified whether a student was case managed, their attendance rate, whether or not they were at-risk of dropping out, and identifying as male as being the most important variables in predicting promotion to the next grade. In turn, these variables could be helpful moving forward in identifying students who are at risk of not being promoted to the next grade. This model could provide insights for identifying both students who are likely to be promoted as well as students who are at risk of retention based on a combination of variables. In turn, it could be leveraged to identify (with further work) what supports students might need to increase their probability for promotion. Finally, this model could likely be improved by incorporating additional variables, more observations, or using more advanced machine learning techniques.\n",
    "\n",
    "Throughout the notebook, there are comments to provide explanations for each step.  "
   ]
  },
  {
   "cell_type": "code",
   "execution_count": 1,
   "id": "6e8eafd9",
   "metadata": {},
   "outputs": [],
   "source": [
    "import numpy as np\n",
    "import pandas as pd\n",
    "import matplotlib.pyplot as plt\n",
    "import matplotlib.cm as cm\n",
    "import scipy.stats as stats"
   ]
  },
  {
   "cell_type": "code",
   "execution_count": 2,
   "id": "efb33594",
   "metadata": {},
   "outputs": [],
   "source": [
    "# Load the dataset.\n",
    "FileName = 'fake_ed_data.csv'\n",
    "edu = pd.read_csv('fake_ed_data.csv')"
   ]
  },
  {
   "cell_type": "code",
   "execution_count": 3,
   "id": "496ad288",
   "metadata": {},
   "outputs": [
    {
     "data": {
      "text/html": [
       "<div>\n",
       "<style scoped>\n",
       "    .dataframe tbody tr th:only-of-type {\n",
       "        vertical-align: middle;\n",
       "    }\n",
       "\n",
       "    .dataframe tbody tr th {\n",
       "        vertical-align: top;\n",
       "    }\n",
       "\n",
       "    .dataframe thead th {\n",
       "        text-align: right;\n",
       "    }\n",
       "</style>\n",
       "<table border=\"1\" class=\"dataframe\">\n",
       "  <thead>\n",
       "    <tr style=\"text-align: right;\">\n",
       "      <th></th>\n",
       "      <th>Student ID</th>\n",
       "      <th>Gender</th>\n",
       "      <th>Race</th>\n",
       "      <th>Current Grade Level</th>\n",
       "      <th>Attendance Rate</th>\n",
       "      <th>At-risk of Dropping Out</th>\n",
       "      <th>Free-Reduced Lunch</th>\n",
       "      <th>Primary Language Spoken in the Home</th>\n",
       "      <th>Lives with Parent/Guardian</th>\n",
       "      <th>Promotion to Next Grade</th>\n",
       "      <th>SEL Rating</th>\n",
       "      <th>Reading Level</th>\n",
       "      <th>Receiving Case Management</th>\n",
       "      <th>Average Grade Percentage</th>\n",
       "    </tr>\n",
       "  </thead>\n",
       "  <tbody>\n",
       "    <tr>\n",
       "      <th>0</th>\n",
       "      <td>1</td>\n",
       "      <td>Male</td>\n",
       "      <td>White</td>\n",
       "      <td>1st Grade</td>\n",
       "      <td>95%</td>\n",
       "      <td>No</td>\n",
       "      <td>Yes</td>\n",
       "      <td>English</td>\n",
       "      <td>Yes</td>\n",
       "      <td>Promoted</td>\n",
       "      <td>4.0</td>\n",
       "      <td>Below Grade</td>\n",
       "      <td>No</td>\n",
       "      <td>85</td>\n",
       "    </tr>\n",
       "    <tr>\n",
       "      <th>1</th>\n",
       "      <td>2</td>\n",
       "      <td>Female</td>\n",
       "      <td>Black</td>\n",
       "      <td>2nd Grade</td>\n",
       "      <td>85%</td>\n",
       "      <td>Yes</td>\n",
       "      <td>Yes</td>\n",
       "      <td>English</td>\n",
       "      <td>No</td>\n",
       "      <td>Promoted</td>\n",
       "      <td>2.0</td>\n",
       "      <td>On Grade</td>\n",
       "      <td>Yes</td>\n",
       "      <td>72</td>\n",
       "    </tr>\n",
       "    <tr>\n",
       "      <th>2</th>\n",
       "      <td>3</td>\n",
       "      <td>Male</td>\n",
       "      <td>Hispanic</td>\n",
       "      <td>3rd Grade</td>\n",
       "      <td>90%</td>\n",
       "      <td>No</td>\n",
       "      <td>Yes</td>\n",
       "      <td>Spanish</td>\n",
       "      <td>Yes</td>\n",
       "      <td>Promoted</td>\n",
       "      <td>3.0</td>\n",
       "      <td>Above Grade</td>\n",
       "      <td>No</td>\n",
       "      <td>80</td>\n",
       "    </tr>\n",
       "    <tr>\n",
       "      <th>3</th>\n",
       "      <td>4</td>\n",
       "      <td>Female</td>\n",
       "      <td>Asian</td>\n",
       "      <td>4th Grade</td>\n",
       "      <td>92%</td>\n",
       "      <td>No</td>\n",
       "      <td>No</td>\n",
       "      <td>English</td>\n",
       "      <td>Yes</td>\n",
       "      <td>Promoted</td>\n",
       "      <td>5.0</td>\n",
       "      <td>On Grade</td>\n",
       "      <td>Yes</td>\n",
       "      <td>90</td>\n",
       "    </tr>\n",
       "    <tr>\n",
       "      <th>4</th>\n",
       "      <td>5</td>\n",
       "      <td>Male</td>\n",
       "      <td>Native American</td>\n",
       "      <td>5th Grade</td>\n",
       "      <td>80%</td>\n",
       "      <td>Yes</td>\n",
       "      <td>Yes</td>\n",
       "      <td>English</td>\n",
       "      <td>No</td>\n",
       "      <td>Retained</td>\n",
       "      <td>2.0</td>\n",
       "      <td>Below Grade</td>\n",
       "      <td>Yes</td>\n",
       "      <td>68</td>\n",
       "    </tr>\n",
       "  </tbody>\n",
       "</table>\n",
       "</div>"
      ],
      "text/plain": [
       "   Student ID  Gender             Race Current Grade Level Attendance Rate  \\\n",
       "0           1    Male            White           1st Grade             95%   \n",
       "1           2  Female            Black           2nd Grade             85%   \n",
       "2           3    Male         Hispanic           3rd Grade             90%   \n",
       "3           4  Female            Asian           4th Grade             92%   \n",
       "4           5    Male  Native American           5th Grade             80%   \n",
       "\n",
       "  At-risk of Dropping Out Free-Reduced Lunch  \\\n",
       "0                      No                Yes   \n",
       "1                     Yes                Yes   \n",
       "2                      No                Yes   \n",
       "3                      No                 No   \n",
       "4                     Yes                Yes   \n",
       "\n",
       "  Primary Language Spoken in the Home Lives with Parent/Guardian  \\\n",
       "0                             English                        Yes   \n",
       "1                             English                         No   \n",
       "2                             Spanish                        Yes   \n",
       "3                             English                        Yes   \n",
       "4                             English                         No   \n",
       "\n",
       "  Promotion to Next Grade  SEL Rating Reading Level Receiving Case Management  \\\n",
       "0                Promoted         4.0   Below Grade                        No   \n",
       "1                Promoted         2.0      On Grade                       Yes   \n",
       "2                Promoted         3.0   Above Grade                        No   \n",
       "3                Promoted         5.0      On Grade                       Yes   \n",
       "4                Retained         2.0   Below Grade                       Yes   \n",
       "\n",
       "  Average Grade Percentage  \n",
       "0                       85  \n",
       "1                       72  \n",
       "2                       80  \n",
       "3                       90  \n",
       "4                       68  "
      ]
     },
     "execution_count": 3,
     "metadata": {},
     "output_type": "execute_result"
    }
   ],
   "source": [
    "# Display first 5 rows of the dataset to get an idea of the data\n",
    "edu.head()"
   ]
  },
  {
   "cell_type": "code",
   "execution_count": 4,
   "id": "e3ee6aab",
   "metadata": {},
   "outputs": [
    {
     "data": {
      "text/plain": [
       "Student ID                             0\n",
       "Gender                                 0\n",
       "Race                                   0\n",
       "Current Grade Level                    0\n",
       "Attendance Rate                        0\n",
       "At-risk of Dropping Out                0\n",
       "Free-Reduced Lunch                     0\n",
       "Primary Language Spoken in the Home    0\n",
       "Lives with Parent/Guardian             0\n",
       "Promotion to Next Grade                0\n",
       "SEL Rating                             0\n",
       "Reading Level                          0\n",
       "Receiving Case Management              0\n",
       "Average Grade Percentage               0\n",
       "dtype: int64"
      ]
     },
     "execution_count": 4,
     "metadata": {},
     "output_type": "execute_result"
    }
   ],
   "source": [
    "# Check if there are missing values that should be dealt with before cleaning or running any analysis\n",
    "edu.isnull().sum()"
   ]
  },
  {
   "cell_type": "markdown",
   "id": "13172ead",
   "metadata": {},
   "source": [
    "We can see above that there are no missing values for any of the variables."
   ]
  },
  {
   "cell_type": "code",
   "execution_count": 5,
   "id": "f6a93365",
   "metadata": {},
   "outputs": [],
   "source": [
    "# Rename columns so they are easier to work with.\n",
    "edu = edu.rename(columns={\n",
    "    'Student ID': 'ID',\n",
    "    'Current Grade Level': 'Grade',\n",
    "    'Attendance Rate': 'Attendance_rate',\n",
    "    'At-risk of Dropping Out': 'At_risk',\n",
    "    'Free-Reduced Lunch': 'Free_reduced_lunch', \n",
    "    'Primary Language Spoken in the Home': 'Primary_lang',\n",
    "    'Lives with Parent/Guardian': 'Lives_with_parent_guardian', \n",
    "    'Promotion to Next Grade': 'Promoted',\n",
    "    'SEL Rating':'SEL_score',\n",
    "    'Reading Level':'Reading_level', \n",
    "    'Receiving Case Management':'Case_managed',\n",
    "    'Average Grade Percentage':'Average_grade'\n",
    "})\n",
    "\n",
    "# Replace values in columns to be in a consistent format.\n",
    "replace_dict = {\n",
    "    '8th': '8th Grade',\n",
    "    '7th': '7th Grade',\n",
    "    ' Promoted': 'Promoted',\n",
    "    'Not Promoted': 'Retained',\n",
    "    'Caucasian' : 'White',\n",
    "    'Caucasian American': 'White'\n",
    "}\n",
    "edu = edu.replace(replace_dict)"
   ]
  },
  {
   "cell_type": "code",
   "execution_count": 6,
   "id": "1a54a02a",
   "metadata": {},
   "outputs": [],
   "source": [
    "# Strip leading/trailing whitespaces.\n",
    "edu = edu.apply(lambda x: x.str.strip() if x.dtype == 'object' else x)\n",
    "\n",
    "# Convert columns to float and remove the \"%\" sign from those columns for easier use later.\n",
    "float_columns = ['Attendance_rate', 'Average_grade']\n",
    "for column in float_columns:\n",
    "    edu[column] = edu[column].str.replace('%', '').astype(float)\n",
    "    \n",
    "# Change columns with \"yes\" and \"no\" values to 1 and 0 respectively so they are more easily utilized in analysis.\n",
    "edu.replace({'At_risk': {'Yes': 1, 'No': 0},\n",
    "             'Free_reduced_lunch': {'Yes': 1, 'No': 0},\n",
    "             'Lives_with_parent_guardian': {'Yes': 1, 'No': 0},\n",
    "             'Case_managed': {'Yes': 1, 'No': 0},\n",
    "             'Promoted': {'Promoted': 1, 'Retained': 0}}, inplace=True)"
   ]
  },
  {
   "cell_type": "code",
   "execution_count": 7,
   "id": "d9e3d559",
   "metadata": {},
   "outputs": [],
   "source": [
    "# Export the cleaned data to an Excel file for use in visualizing the data in a program like Tableau.\n",
    "edu.to_excel(\"fake_ed_data.xlsx\") "
   ]
  },
  {
   "cell_type": "code",
   "execution_count": 8,
   "id": "f67c92bc",
   "metadata": {},
   "outputs": [
    {
     "name": "stdout",
     "output_type": "stream",
     "text": [
      "Descriptive statistics for:\n",
      "        Attendance_rate   SEL_score  Average_grade\n",
      "count       657.000000  657.000000     657.000000\n",
      "mean         88.140030    3.189498      82.150685\n",
      "std           6.813401    0.745144       7.367745\n",
      "min          65.000000    2.000000      58.000000\n",
      "25%          85.000000    2.800000      77.000000\n",
      "50%          89.000000    3.300000      85.000000\n",
      "75%          93.000000    3.800000      88.000000\n",
      "max         100.000000    5.000000      96.000000\n"
     ]
    }
   ],
   "source": [
    "# One approach to descriptive statistics it to calculate them only for the continuous variables.\n",
    "print(\"Descriptive statistics for:\\n\", edu[['Attendance_rate', 'SEL_score', 'Average_grade']].describe())"
   ]
  },
  {
   "cell_type": "code",
   "execution_count": 9,
   "id": "5c9c14f9",
   "metadata": {},
   "outputs": [
    {
     "data": {
      "text/html": [
       "<div>\n",
       "<style scoped>\n",
       "    .dataframe tbody tr th:only-of-type {\n",
       "        vertical-align: middle;\n",
       "    }\n",
       "\n",
       "    .dataframe tbody tr th {\n",
       "        vertical-align: top;\n",
       "    }\n",
       "\n",
       "    .dataframe thead th {\n",
       "        text-align: right;\n",
       "    }\n",
       "</style>\n",
       "<table border=\"1\" class=\"dataframe\">\n",
       "  <thead>\n",
       "    <tr style=\"text-align: right;\">\n",
       "      <th></th>\n",
       "      <th>ID</th>\n",
       "      <th>Attendance_rate</th>\n",
       "      <th>At_risk</th>\n",
       "      <th>Free_reduced_lunch</th>\n",
       "      <th>Lives_with_parent_guardian</th>\n",
       "      <th>Promoted</th>\n",
       "      <th>SEL_score</th>\n",
       "      <th>Case_managed</th>\n",
       "      <th>Average_grade</th>\n",
       "    </tr>\n",
       "  </thead>\n",
       "  <tbody>\n",
       "    <tr>\n",
       "      <th>count</th>\n",
       "      <td>657.000000</td>\n",
       "      <td>657.000000</td>\n",
       "      <td>657.000000</td>\n",
       "      <td>657.000000</td>\n",
       "      <td>657.000000</td>\n",
       "      <td>657.000000</td>\n",
       "      <td>657.000000</td>\n",
       "      <td>657.000000</td>\n",
       "      <td>657.000000</td>\n",
       "    </tr>\n",
       "    <tr>\n",
       "      <th>mean</th>\n",
       "      <td>743.264840</td>\n",
       "      <td>88.140030</td>\n",
       "      <td>0.277017</td>\n",
       "      <td>0.943683</td>\n",
       "      <td>0.986301</td>\n",
       "      <td>0.847793</td>\n",
       "      <td>3.189498</td>\n",
       "      <td>0.741248</td>\n",
       "      <td>82.150685</td>\n",
       "    </tr>\n",
       "    <tr>\n",
       "      <th>std</th>\n",
       "      <td>552.676098</td>\n",
       "      <td>6.813401</td>\n",
       "      <td>0.447866</td>\n",
       "      <td>0.230708</td>\n",
       "      <td>0.116325</td>\n",
       "      <td>0.359495</td>\n",
       "      <td>0.745144</td>\n",
       "      <td>0.438283</td>\n",
       "      <td>7.367745</td>\n",
       "    </tr>\n",
       "    <tr>\n",
       "      <th>min</th>\n",
       "      <td>1.000000</td>\n",
       "      <td>65.000000</td>\n",
       "      <td>0.000000</td>\n",
       "      <td>0.000000</td>\n",
       "      <td>0.000000</td>\n",
       "      <td>0.000000</td>\n",
       "      <td>2.000000</td>\n",
       "      <td>0.000000</td>\n",
       "      <td>58.000000</td>\n",
       "    </tr>\n",
       "    <tr>\n",
       "      <th>25%</th>\n",
       "      <td>166.000000</td>\n",
       "      <td>85.000000</td>\n",
       "      <td>0.000000</td>\n",
       "      <td>1.000000</td>\n",
       "      <td>1.000000</td>\n",
       "      <td>1.000000</td>\n",
       "      <td>2.800000</td>\n",
       "      <td>0.000000</td>\n",
       "      <td>77.000000</td>\n",
       "    </tr>\n",
       "    <tr>\n",
       "      <th>50%</th>\n",
       "      <td>1032.000000</td>\n",
       "      <td>89.000000</td>\n",
       "      <td>0.000000</td>\n",
       "      <td>1.000000</td>\n",
       "      <td>1.000000</td>\n",
       "      <td>1.000000</td>\n",
       "      <td>3.300000</td>\n",
       "      <td>1.000000</td>\n",
       "      <td>85.000000</td>\n",
       "    </tr>\n",
       "    <tr>\n",
       "      <th>75%</th>\n",
       "      <td>1296.000000</td>\n",
       "      <td>93.000000</td>\n",
       "      <td>1.000000</td>\n",
       "      <td>1.000000</td>\n",
       "      <td>1.000000</td>\n",
       "      <td>1.000000</td>\n",
       "      <td>3.800000</td>\n",
       "      <td>1.000000</td>\n",
       "      <td>88.000000</td>\n",
       "    </tr>\n",
       "    <tr>\n",
       "      <th>max</th>\n",
       "      <td>1420.000000</td>\n",
       "      <td>100.000000</td>\n",
       "      <td>1.000000</td>\n",
       "      <td>1.000000</td>\n",
       "      <td>1.000000</td>\n",
       "      <td>1.000000</td>\n",
       "      <td>5.000000</td>\n",
       "      <td>1.000000</td>\n",
       "      <td>96.000000</td>\n",
       "    </tr>\n",
       "  </tbody>\n",
       "</table>\n",
       "</div>"
      ],
      "text/plain": [
       "                ID  Attendance_rate     At_risk  Free_reduced_lunch  \\\n",
       "count   657.000000       657.000000  657.000000          657.000000   \n",
       "mean    743.264840        88.140030    0.277017            0.943683   \n",
       "std     552.676098         6.813401    0.447866            0.230708   \n",
       "min       1.000000        65.000000    0.000000            0.000000   \n",
       "25%     166.000000        85.000000    0.000000            1.000000   \n",
       "50%    1032.000000        89.000000    0.000000            1.000000   \n",
       "75%    1296.000000        93.000000    1.000000            1.000000   \n",
       "max    1420.000000       100.000000    1.000000            1.000000   \n",
       "\n",
       "       Lives_with_parent_guardian    Promoted   SEL_score  Case_managed  \\\n",
       "count                  657.000000  657.000000  657.000000    657.000000   \n",
       "mean                     0.986301    0.847793    3.189498      0.741248   \n",
       "std                      0.116325    0.359495    0.745144      0.438283   \n",
       "min                      0.000000    0.000000    2.000000      0.000000   \n",
       "25%                      1.000000    1.000000    2.800000      0.000000   \n",
       "50%                      1.000000    1.000000    3.300000      1.000000   \n",
       "75%                      1.000000    1.000000    3.800000      1.000000   \n",
       "max                      1.000000    1.000000    5.000000      1.000000   \n",
       "\n",
       "       Average_grade  \n",
       "count     657.000000  \n",
       "mean       82.150685  \n",
       "std         7.367745  \n",
       "min        58.000000  \n",
       "25%        77.000000  \n",
       "50%        85.000000  \n",
       "75%        88.000000  \n",
       "max        96.000000  "
      ]
     },
     "execution_count": 9,
     "metadata": {},
     "output_type": "execute_result"
    }
   ],
   "source": [
    "# Another approach is to pull them for the entire dataset and keep in mind that for categorical variables, statistics like\n",
    "# mean and standard deviation (among others) are not useful.\n",
    "\n",
    "edu.describe()"
   ]
  },
  {
   "cell_type": "markdown",
   "id": "03ba1455",
   "metadata": {},
   "source": [
    "From these descriptive statistics, it is apparent that there are 657 rows/observations for each variable included. The mean values indicate that for this data set, students attend school an average of 88% of the days with a standard deviation of nearly 7 days, have an average SEL score of 3.2 on a scale of 1 (low) to 5 (high) with a standard deviation of 0.75, and the average of their grades is around 82.2% with a standard deviation of about 7%. The standard deviations are relatively small for each variable, and this indicates that the means are generally representative of the sample present in the data set.\n",
    "\n",
    "It is also worth noting that some of the variables in this dataset are binary, taking on values of either 0 or 1. At_risk denotes whether a student is identified as at-risk of dropping out (1) or not (0), Free_reduced_lunch indicates whether the student receives free or reduced lunch(1), Lives_with_parent_guardian tells us whether the student lives with their parent or a guardian (1), and Promoted shows whether the student was promoted to the next grade (1) or retained.\n",
    "\n",
    "Overall, these descriptive statistics provide an initial understanding of the distribution of values in the dataset and can serve as a basis for further exploration and analysis."
   ]
  },
  {
   "cell_type": "code",
   "execution_count": 10,
   "id": "f7d1a69f",
   "metadata": {},
   "outputs": [
    {
     "name": "stdout",
     "output_type": "stream",
     "text": [
      "\n",
      "Gender:\n",
      " Male      0.500761\n",
      "Female    0.499239\n",
      "Name: Gender, dtype: float64\n",
      "\n",
      "Race:\n",
      " White               0.493151\n",
      "Hispanic            0.193303\n",
      "Black               0.140030\n",
      "Asian               0.117199\n",
      "African American    0.053272\n",
      "Native American     0.003044\n",
      "Name: Race, dtype: float64\n",
      "\n",
      "Grade:\n",
      " 10th Grade    0.144597\n",
      "12th Grade    0.144597\n",
      "9th Grade     0.143075\n",
      "11th Grade    0.143075\n",
      "7th Grade     0.086758\n",
      "8th Grade     0.080670\n",
      "6th Grade     0.066971\n",
      "1st Grade     0.039574\n",
      "2nd Grade     0.038052\n",
      "3rd Grade     0.038052\n",
      "5th Grade     0.038052\n",
      "4th Grade     0.036530\n",
      "Name: Grade, dtype: float64\n",
      "\n",
      "Primary_lang:\n",
      " English    0.82344\n",
      "Spanish    0.17656\n",
      "Name: Primary_lang, dtype: float64\n",
      "\n",
      "Reading_level:\n",
      " On Grade       0.412481\n",
      "Below Grade    0.324201\n",
      "Above Grade    0.263318\n",
      "Name: Reading_level, dtype: float64\n"
     ]
    }
   ],
   "source": [
    "# Counts for each category of the categorical variables \n",
    "cat_vars = ['Gender', 'Race', 'Grade', 'Primary_lang', 'Reading_level']\n",
    "for var in cat_vars:\n",
    "    print(f\"\\n{var}:\\n\", edu[var].value_counts(normalize=True))"
   ]
  },
  {
   "cell_type": "markdown",
   "id": "f1e38b20",
   "metadata": {},
   "source": [
    "These stats demonstrate that the gender data is roughly 50/50 male/female, and the breakdown of students between 9th, 10th, 11th, and 12th grade are very similar with a smaller proportion of students in the other grade levels. Caucasian is the most common racial identity by a large margin, and English is spoken much more frequently at home compared to Spanish. Reading levels are fairly spread out between on grade level (the most common), below grade level, and above grade level. "
   ]
  },
  {
   "cell_type": "code",
   "execution_count": 11,
   "id": "e944b319",
   "metadata": {},
   "outputs": [
    {
     "data": {
      "image/png": "[encoded data removed]",
      "text/plain": [
       "<Figure size 432x288 with 1 Axes>"
      ]
     },
     "metadata": {
      "needs_background": "light"
     },
     "output_type": "display_data"
    },
    {
     "data": {
      "image/png": "[encoded data removed]",
      "text/plain": [
       "<Figure size 432x288 with 1 Axes>"
      ]
     },
     "metadata": {
      "needs_background": "light"
     },
     "output_type": "display_data"
    },
    {
     "data": {
      "image/png": "[encoded data removed]",
      "text/plain": [
       "<Figure size 432x288 with 1 Axes>"
      ]
     },
     "metadata": {
      "needs_background": "light"
     },
     "output_type": "display_data"
    }
   ],
   "source": [
    "# Create some plots to get an idea of frequencies of some variables across the dataset\n",
    "\n",
    "# create bar chart for Gender\n",
    "gender_counts = edu['Gender'].value_counts()\n",
    "colors = ['green', 'yellow']\n",
    "plt.bar(gender_counts.index, gender_counts.values, color=colors)\n",
    "plt.title('Gender Distribution')\n",
    "plt.xlabel('Gender')\n",
    "plt.ylabel('Count')\n",
    "for i, count in enumerate(gender_counts.values):\n",
    "    plt.text(i, count, str(count), ha='center', va='bottom')\n",
    "plt.show()\n",
    "\n",
    "# create bar chart for Race\n",
    "race_counts = edu['Race'].value_counts()\n",
    "colors2 = ['red', 'orange', 'yellow', 'green', 'blue', 'violet', 'pink', 'black']\n",
    "plt.bar(race_counts.index, race_counts.values, color=colors2)\n",
    "plt.title('Race Distribution')\n",
    "plt.xlabel('Race')\n",
    "plt.ylabel('Count')\n",
    "for i, count in enumerate(race_counts.values):\n",
    "    plt.text(i, count, str(count), ha='center', va='bottom')\n",
    "plt.xticks(rotation=45)\n",
    "plt.show()\n",
    "\n",
    "#create bar chart for Grade Level\n",
    "grade_counts = edu['Grade'].value_counts()\n",
    "plt.bar(grade_counts.index, grade_counts.values)\n",
    "plt.title('Grade Level Distribution')\n",
    "plt.xlabel('Grade Level')\n",
    "plt.ylabel('Count')\n",
    "for i, count in enumerate(grade_counts.values):\n",
    "    plt.text(i, count, str(count), ha='center', va='bottom')\n",
    "plt.xticks(rotation=45)\n",
    "plt.show()"
   ]
  },
  {
   "cell_type": "code",
   "execution_count": 12,
   "id": "fb1ce30a",
   "metadata": {},
   "outputs": [
    {
     "data": {
      "image/png": "[encoded data removed]",
      "text/plain": [
       "<Figure size 432x288 with 1 Axes>"
      ]
     },
     "metadata": {},
     "output_type": "display_data"
    }
   ],
   "source": [
    "# create pie chart for Grade\n",
    "grade_counts = edu['Grade'].value_counts()\n",
    "plt.pie(grade_counts.values, labels=grade_counts.index, autopct='%1.1f%%')\n",
    "plt.title('Grade Distribution')\n",
    "plt.show()"
   ]
  },
  {
   "cell_type": "code",
   "execution_count": 13,
   "id": "78846109",
   "metadata": {},
   "outputs": [
    {
     "data": {
      "image/png": "[encoded data removed]",
      "text/plain": [
       "<Figure size 432x288 with 1 Axes>"
      ]
     },
     "metadata": {
      "needs_background": "light"
     },
     "output_type": "display_data"
    },
    {
     "data": {
      "image/png": "[encoded data removed]",
      "text/plain": [
       "<Figure size 432x288 with 1 Axes>"
      ]
     },
     "metadata": {
      "needs_background": "light"
     },
     "output_type": "display_data"
    }
   ],
   "source": [
    "# create histogram for Attendance_rate\n",
    "cmap = plt.cm.get_cmap('rainbow')\n",
    "counts, _, _ = plt.hist(edu['Attendance_rate'], bins=10)\n",
    "for i, patch in enumerate(plt.gca().patches):\n",
    "    color = cmap(i / len(counts))\n",
    "    patch.set_facecolor(color)\n",
    "plt.xlabel('Attendance Rate')\n",
    "plt.ylabel('Frequency')\n",
    "plt.title('Attendance Rate Distribution')\n",
    "plt.show()\n",
    "\n",
    "# create a histogram of average grade with rainbow colors\n",
    "cmap = plt.cm.get_cmap('rainbow')\n",
    "counts, _, _ = plt.hist(edu['Average_grade'], bins=10)\n",
    "for i, patch in enumerate(plt.gca().patches):\n",
    "    color = cmap(i / len(counts))\n",
    "    patch.set_facecolor(color)\n",
    "plt.xlabel('Average Grade')\n",
    "plt.ylabel('Frequency')\n",
    "plt.title('Average Grade Distribution')\n",
    "plt.show()"
   ]
  },
  {
   "cell_type": "code",
   "execution_count": 14,
   "id": "ef057922",
   "metadata": {},
   "outputs": [],
   "source": [
    "# More data prep before getting into in-depth analysis and building a predictive model\n",
    "# Starting with using an encoding method to prepare the categorical columns\n",
    "\n",
    "cat_cols = ['Gender', 'Race', 'Grade', 'Primary_lang', 'Reading_level']\n",
    "\n",
    "edu_reg_ready = edu.copy()\n",
    "for col in cat_cols:\n",
    "    if col in edu.columns:\n",
    "        encoded_cols = pd.get_dummies(edu[col], prefix=col)\n",
    "        edu_reg_ready = pd.concat([edu_reg_ready, encoded_cols], axis=1)\n",
    "edu_reg_ready.drop(columns=cat_cols, inplace=True)"
   ]
  },
  {
   "cell_type": "code",
   "execution_count": 15,
   "id": "a77f50de",
   "metadata": {},
   "outputs": [
    {
     "name": "stdout",
     "output_type": "stream",
     "text": [
      "Promoted                      1.000000\n",
      "Average_grade                 0.549096\n",
      "Attendance_rate               0.524026\n",
      "SEL_score                     0.394077\n",
      "Reading_level_Above Grade     0.234081\n",
      "Reading_level_On Grade        0.225921\n",
      "Case_managed                  0.223731\n",
      "Race_White                    0.172172\n",
      "Grade_8th Grade               0.094396\n",
      "Primary_lang_English          0.092722\n",
      "Grade_12th Grade              0.089873\n",
      "Grade_1st Grade               0.086009\n",
      "Grade_2nd Grade               0.084272\n",
      "Grade_4th Grade               0.059919\n",
      "Gender_Female                 0.050201\n",
      "Race_Asian                    0.035829\n",
      "Lives_with_parent_guardian    0.022970\n",
      "Grade_10th Grade              0.017586\n",
      "Grade_9th Grade               0.003721\n",
      "Grade_6th Grade              -0.022085\n",
      "Grade_5th Grade              -0.026461\n",
      "Grade_11th Grade             -0.032582\n",
      "Gender_Male                  -0.050201\n",
      "Race_Black                   -0.073224\n",
      "Grade_7th Grade              -0.080146\n",
      "Free_reduced_lunch           -0.085129\n",
      "Primary_lang_Spanish         -0.092722\n",
      "Race_Hispanic                -0.093026\n",
      "Race_African American        -0.125897\n",
      "Race_Native American         -0.130413\n",
      "Grade_3rd Grade              -0.336515\n",
      "At_risk                      -0.372074\n",
      "Reading_level_Below Grade    -0.457862\n",
      "Name: Promoted, dtype: float64\n"
     ]
    }
   ],
   "source": [
    "# Drop the ID column as it isn't needed\n",
    "edu_reg_ready = edu_reg_ready.drop('ID', axis=1)\n",
    "\n",
    "# Compute the correlation matrix and identify which variables correlate with Promoted. \n",
    "corr_matrix = edu_reg_ready.corr()\n",
    "corr_with_promoted = corr_matrix['Promoted'].sort_values(ascending=False)\n",
    "\n",
    "# Print the correlation coefficients in order of strongest first\n",
    "print(corr_with_promoted)\n"
   ]
  },
  {
   "cell_type": "markdown",
   "id": "dfd1d65a",
   "metadata": {},
   "source": [
    "The Average_grade (.55) and Attendance_rate (.52) variables have the strongest positive correlation with Promoted. From this, it is suggested that students with higher average grades and attendance rates have an increased likelihood of being promoted to the next grade.  \n",
    "\n",
    "The SEL_score (.39), Reading_level_Above Grade (.23), and Reading_level_On Grade (.23) variables have a moderate positive correlation with Promoted. This indicates that students with higher SEL scores and who read at or above grade level are more likely to be promoted.\n",
    "\n",
    "Reading_level_Below Grade (-.46), At_risk (-.37), and Grade_3rd Grade (-.34) variables have the strongest negative correlation with Promoted. This suggests that students who are reading below their grade level, are identified as at-risk of dropping out, and who are in the 3rd grade are less likely to be promoted. \n",
    "\n",
    "The 5 variables with the strongest correlation to being promoted are: Average_grade, Attendance_rate, Reading_level_Below Grade, At_risk, and Grade_3rd Grade with Reading_level_Above Grade and Reading_level_On Grade being next in terms of strength of correlation. It is worth noting that these relationships only show correlation rather than causation. This means that while there may be a strong correlation between a particular variable and being promoted, it does not necessarily mean that the variable causes promotion. While being in 3rd grade is relatively strong in terms of correlation to being promoted, this doesn't indicate that being in 3rd grade causes promotion.\n",
    "\n",
    "Finally, the other variables in the list are weakly correlated with the outcome of being promoted; however, it might still be worth exploring when building a predictive model."
   ]
  },
  {
   "cell_type": "code",
   "execution_count": 16,
   "id": "2ad3eb06",
   "metadata": {
    "scrolled": true
   },
   "outputs": [
    {
     "name": "stdout",
     "output_type": "stream",
     "text": [
      "Accuracy: 0.9621212121212122\n",
      "Precision: 0.9649122807017544\n",
      "Recall: 0.990990990990991\n",
      "F1 score: 0.9777777777777777\n"
     ]
    }
   ],
   "source": [
    "from sklearn.model_selection import train_test_split\n",
    "from sklearn.tree import DecisionTreeClassifier\n",
    "from sklearn.metrics import accuracy_score, precision_score, recall_score, f1_score\n",
    "\n",
    "# Create test and training datasets. This dataset is relatively small, but will be split anyway\n",
    "X_train, X_test, y_train, y_test = train_test_split(edu_reg_ready.drop('Promoted', axis=1), edu_reg_ready['Promoted'], test_size=0.2, random_state=42)\n",
    "\n",
    "# Instantiate the model\n",
    "edu_dec_tree = DecisionTreeClassifier(max_depth=3, min_samples_leaf=5)\n",
    "\n",
    "# Fit the model to the training data\n",
    "edu_dec_tree.fit(X_train, y_train)\n",
    "\n",
    "# Predict the target variable using the testing data\n",
    "y_pred = edu_dec_tree.predict(X_test)\n",
    "\n",
    "# Evaluate the model's performance\n",
    "accuracy = accuracy_score(y_test, y_pred)\n",
    "precision = precision_score(y_test, y_pred)\n",
    "recall = recall_score(y_test, y_pred)\n",
    "f1 = f1_score(y_test, y_pred)\n",
    "\n",
    "print('Accuracy:', accuracy)\n",
    "print('Precision:', precision)\n",
    "print('Recall:', recall)\n",
    "print('F1 score:', f1)\n"
   ]
  },
  {
   "cell_type": "markdown",
   "id": "bb88ef92",
   "metadata": {},
   "source": [
    "The accuracy score represents the proportion of correct predictions made by the model. In this case, the model was able to correctly predict promotion or retention for 96.2% of the students. This indicates that the model performed well in identifying which students will be promoted and which will not.\n",
    "\n",
    "The precision score indicates the proportion of true positive predictions out of all positive predictions made by the model. A positive prediction in this case refers to a prediction of promotion to the next grade. A precision score of 0.965 indicates that of the students predicted to be promoted, 96.5% were actually promoted. This suggests that the model was able to accurately identify a high proportion of students who would be promoted to the next grade.\n",
    "\n",
    "The recall score represents the proportion of true positive predictions out of all actual positive cases. In this case, a recall score of 0.991 indicates that of the students who were promoted, the model correctly identified 99.1% of them as promoted. This suggests that the model was able to accurately identify almost all students who would be promoted to the next grade.\n",
    "\n",
    "The F1 score is the harmonic mean of precision and recall, providing an overall measure of the model's performance. An F1 score of 0.978 suggests that the model performed well overall in accurately predicting which students will be promoted to the next grade.\n",
    "\n",
    "Overall, the statistical measures obtained indicate that the predictive model performed well in identifying which students would be promoted to the next grade. However, it is important to note that these measures only provide an indication of how well the model performed on the specific data used, and further testing on new data is needed to determine the model's generalizability. "
   ]
  },
  {
   "cell_type": "code",
   "execution_count": 17,
   "id": "b10177bd",
   "metadata": {},
   "outputs": [
    {
     "name": "stdout",
     "output_type": "stream",
     "text": [
      "Top 5 most important variables:\n",
      "Case_managed: 0.85\n",
      "Attendance_rate: 0.08\n",
      "At_risk: 0.03\n",
      "Gender_Male: 0.02\n",
      "Promoted: 0.01\n"
     ]
    }
   ],
   "source": [
    "# Determine which variables were most important\n",
    "\n",
    "importance = edu_dec_tree.feature_importances_\n",
    "indices = np.argsort(importance)[::-1][:5] # Get the top 5 indices\n",
    "\n",
    "print(\"Top 5 most important variables:\")\n",
    "for i in indices:\n",
    "    print(f\"{edu_reg_ready.columns[i]}: {importance[i]:.2f}\")\n"
   ]
  },
  {
   "cell_type": "markdown",
   "id": "56864f5c",
   "metadata": {},
   "source": [
    "The code shared above uses a decision tree model to predict whether students will be promoted or retained in their grade. The model is trained on a fictional dataset that includes various student characteristics such as gender, average grade, attendance rate, and whether they are considered \"at risk\". The performance of the model is evaluated using several metrics including accuracy, precision, recall, and F1 score.\n",
    "\n",
    "The results of the model show that it performs well overall, with an accuracy of 0.962 indicating that it was able to correctly predict promotion or retention for 96.2% of the students. The precision score of 0.965 indicates that of the students predicted to be promoted to the next grade, 96.5% were actually promoted. Similarly, the recall score of 0.991 indicates that of the students who were promoted, the model correctly identified 99.1% of them as promoted. Finally, the F1 score of 0.978 indicates that the model performs well overall.\n",
    "\n",
    "When examining the most important variables in the predictive model, the decision tree model found that the variable with the greatest importance was whether a student was case-managed, with an importance value of 0.85. The second most important variable was attendance rate, with an importance value of 0.08. The remaining variables, including whether a student was at risk or male, had much lower importance values.\n",
    "\n",
    "In contrast, when looking at correlations between variables and the outcome variable of promotion/retention, the variables with the strongest correlation were average grade, attendance rate, reading level, whether a student was at risk, and whether the student was in 3rd grade. These variables do not necessarily match up with the variables identified by the decision tree model as being most important.\n",
    "\n",
    "There are a number of potential reasons why the variables identified by the correlation analysis and decision tree model differ. One possibility is that the decision tree model takes into account interaction effects between variables that the correlation analysis does not capture. Another possibility is that the decision tree model is better able to capture non-linear relationships between the predictors and the outcome variable. Lastly, the variables included in the dataset may have varying levels of multicollinearity with each other, and correlations assume that variables are independent of each other, which could result in different variable importance values.\n",
    "\n",
    "Overall, the decision tree model appears to be a useful tool for predicting which students will be promoted or retained in their grade. By identifying the most important variables for making these predictions, educators and administrators can potentially intervene to improve student outcomes and prevent retention."
   ]
  },
  {
   "cell_type": "markdown",
   "id": "329d0762",
   "metadata": {},
   "source": [
    "Some potential next steps for this analysis could include:\n",
    "\n",
    "1. Collecting more data: The current dataset is relatively small, which may limit the accuracy and generalizability of the model. Collecting more data could help improve the model's performance and better understand the factors that influence student promotion.\n",
    "\n",
    "2. Exploring additional variables: While the current analysis focuses on a subset of variables, there may be other factors that influence student promotion that were not included in the dataset. Exploring additional variables could help identify other factors that contribute to student success.\n",
    "\n",
    "3. Testing other models: While the decision tree model performed well in this analysis, it may be worth exploring other models to see if they can provide more accurate predictions or a better understanding of the data.\n",
    "\n",
    "4. Conducting further analysis: The current analysis provides a snapshot of the factors that contribute to student promotion, but additional analyses could be conducted to explore the relationships between variables in more depth. For example, conducting regression analysis could help identify the specific effect of each variable on student promotion.\n",
    "\n",
    "5. Further explore different ways to split the data into training and testing datasets, such as stratified sampling or k-fold cross validation, to ensure that the datasets are representative of the overall sample and not biased towards any particular subset of the data. This can help to improve the robustness and generalizability of the model.\n",
    "\n",
    "In terms of limitations, it's worth noting that the current analysis is based on a single dataset and may not be generalizable to other contexts. Additionally, while the decision tree model provides insight into the most important variables, it does not provide a causal explanation for the relationships between variables."
   ]
  }
 ],
 "metadata": {
  "kernelspec": {
   "display_name": "Python 3 (ipykernel)",
   "language": "python",
   "name": "python3"
  },
  "language_info": {
   "codemirror_mode": {
    "name": "ipython",
    "version": 3
   },
   "file_extension": ".py",
   "mimetype": "text/x-python",
   "name": "python",
   "nbconvert_exporter": "python",
   "pygments_lexer": "ipython3",
   "version": "3.9.7"
  }
 },
 "nbformat": 4,
 "nbformat_minor": 5
}
